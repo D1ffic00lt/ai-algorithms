{
 "cells": [
  {
   "cell_type": "code",
   "execution_count": 1,
   "metadata": {
    "collapsed": true
   },
   "outputs": [],
   "source": [
    "import os\n",
    "import nltk\n",
    "import torch\n",
    "import numpy as np\n",
    "import pandas as pd\n",
    "import matplotlib.pyplot as plt\n",
    "import warnings\n",
    "import torch.nn.functional as F\n",
    "import torch.nn as nn\n",
    "import torchvision.models\n",
    "\n",
    "from sklearn.feature_extraction.text import TfidfVectorizer\n",
    "from sklearn.metrics.pairwise import linear_kernel\n",
    "from PIL import Image\n",
    "from sklearn.model_selection import train_test_split\n",
    "from nltk.stem import WordNetLemmatizer\n",
    "from nltk.corpus import stopwords\n",
    "from nltk import word_tokenize\n",
    "\n",
    "from base import BaseModel\n",
    "from loader import ImagesDataset"
   ]
  },
  {
   "cell_type": "code",
   "execution_count": 2,
   "outputs": [],
   "source": [
    "data = pd.read_csv(\"Flickr8k_text/Flickr8k.token.txt\", sep=\"\\t\")"
   ],
   "metadata": {
    "collapsed": false
   }
  },
  {
   "cell_type": "code",
   "execution_count": 3,
   "outputs": [],
   "source": [
    "data = data.drop_duplicates()"
   ],
   "metadata": {
    "collapsed": false
   }
  },
  {
   "cell_type": "code",
   "execution_count": 4,
   "outputs": [],
   "source": [
    "data.columns = [\"id\", \"desc\"]"
   ],
   "metadata": {
    "collapsed": false
   }
  },
  {
   "cell_type": "code",
   "execution_count": 5,
   "outputs": [],
   "source": [
    "data.id = data.id.map(lambda x: x[:len(x) - 2])"
   ],
   "metadata": {
    "collapsed": false
   }
  },
  {
   "cell_type": "code",
   "execution_count": 6,
   "outputs": [],
   "source": [
    "lemmatizer = WordNetLemmatizer()\n",
    "english_stop_words = stopwords.words(\"english\")"
   ],
   "metadata": {
    "collapsed": false
   }
  },
  {
   "cell_type": "code",
   "execution_count": 7,
   "outputs": [],
   "source": [
    "data[\"target\"] = np.random.randint(0, 2, data.shape[0])"
   ],
   "metadata": {
    "collapsed": false
   }
  },
  {
   "cell_type": "code",
   "execution_count": 8,
   "outputs": [
    {
     "data": {
      "text/plain": "                          id  \\\n0  1000268201_693b08cb0e.jpg   \n1  1000268201_693b08cb0e.jpg   \n2  1000268201_693b08cb0e.jpg   \n3  1000268201_693b08cb0e.jpg   \n4  1001773457_577c3a7d70.jpg   \n\n                                                desc  target  \n0              A girl going into a wooden building .       0  \n1   A little girl climbing into a wooden playhouse .       0  \n2  A little girl climbing the stairs to her playh...       0  \n3  A little girl in a pink dress going into a woo...       0  \n4         A black dog and a spotted dog are fighting       1  ",
      "text/html": "<div>\n<style scoped>\n    .dataframe tbody tr th:only-of-type {\n        vertical-align: middle;\n    }\n\n    .dataframe tbody tr th {\n        vertical-align: top;\n    }\n\n    .dataframe thead th {\n        text-align: right;\n    }\n</style>\n<table border=\"1\" class=\"dataframe\">\n  <thead>\n    <tr style=\"text-align: right;\">\n      <th></th>\n      <th>id</th>\n      <th>desc</th>\n      <th>target</th>\n    </tr>\n  </thead>\n  <tbody>\n    <tr>\n      <th>0</th>\n      <td>1000268201_693b08cb0e.jpg</td>\n      <td>A girl going into a wooden building .</td>\n      <td>0</td>\n    </tr>\n    <tr>\n      <th>1</th>\n      <td>1000268201_693b08cb0e.jpg</td>\n      <td>A little girl climbing into a wooden playhouse .</td>\n      <td>0</td>\n    </tr>\n    <tr>\n      <th>2</th>\n      <td>1000268201_693b08cb0e.jpg</td>\n      <td>A little girl climbing the stairs to her playh...</td>\n      <td>0</td>\n    </tr>\n    <tr>\n      <th>3</th>\n      <td>1000268201_693b08cb0e.jpg</td>\n      <td>A little girl in a pink dress going into a woo...</td>\n      <td>0</td>\n    </tr>\n    <tr>\n      <th>4</th>\n      <td>1001773457_577c3a7d70.jpg</td>\n      <td>A black dog and a spotted dog are fighting</td>\n      <td>1</td>\n    </tr>\n  </tbody>\n</table>\n</div>"
     },
     "execution_count": 8,
     "metadata": {},
     "output_type": "execute_result"
    }
   ],
   "source": [
    "data.head()"
   ],
   "metadata": {
    "collapsed": false
   }
  },
  {
   "cell_type": "code",
   "execution_count": 9,
   "outputs": [
    {
     "data": {
      "text/plain": "array([0, 1])"
     },
     "execution_count": 9,
     "metadata": {},
     "output_type": "execute_result"
    }
   ],
   "source": [
    "data.target.unique()"
   ],
   "metadata": {
    "collapsed": false
   }
  },
  {
   "cell_type": "code",
   "execution_count": 10,
   "outputs": [
    {
     "data": {
      "text/plain": "(40459, 3)"
     },
     "execution_count": 10,
     "metadata": {},
     "output_type": "execute_result"
    }
   ],
   "source": [
    "data.shape"
   ],
   "metadata": {
    "collapsed": false
   }
  },
  {
   "cell_type": "code",
   "execution_count": 11,
   "outputs": [],
   "source": [
    "def english_tokinizer(sentence: str):\n",
    "    sentence = sentence.strip().lower()\n",
    "    tokens = word_tokenize(sentence)\n",
    "    tokens = [\n",
    "        lemmatizer.lemmatize(token)\n",
    "        for token in tokens\n",
    "        if token not in english_stop_words and token.isalnum()\n",
    "    ]\n",
    "    return \" \".join(tokens)"
   ],
   "metadata": {
    "collapsed": false
   }
  },
  {
   "cell_type": "code",
   "execution_count": 12,
   "outputs": [],
   "source": [
    "data = data[:1000]"
   ],
   "metadata": {
    "collapsed": false
   }
  },
  {
   "cell_type": "code",
   "execution_count": 13,
   "outputs": [],
   "source": [
    "data.desc = data.desc.map(english_tokinizer)"
   ],
   "metadata": {
    "collapsed": false
   }
  },
  {
   "cell_type": "code",
   "execution_count": 14,
   "outputs": [],
   "source": [
    "X_train, X_valid, y_train, y_valid = train_test_split(\n",
    "    data.drop(\"target\", axis=1), data.target, test_size=0.33, random_state=42\n",
    ")"
   ],
   "metadata": {
    "collapsed": false
   }
  },
  {
   "cell_type": "code",
   "execution_count": 15,
   "outputs": [],
   "source": [
    "batch_size = 15\n",
    "\n",
    "train_dataset = ImagesDataset(\n",
    "    images=X_train.id.to_numpy(),\n",
    "    descriptions=X_train.desc.to_numpy(),\n",
    "    targets=y_train.to_numpy()\n",
    ")\n",
    "\n",
    "val_dataset = ImagesDataset(\n",
    "    images=X_valid.id.to_numpy(),\n",
    "    descriptions=X_valid.desc.to_numpy(),\n",
    "    targets=y_valid.to_numpy()\n",
    ")\n"
   ],
   "metadata": {
    "collapsed": false
   }
  },
  {
   "cell_type": "code",
   "execution_count": 16,
   "outputs": [],
   "source": [
    "class CTRModel(BaseModel):\n",
    "    def __init__(self, n_classes):\n",
    "        super(CTRModel, self).__init__()\n",
    "        self.n_classes = n_classes\n",
    "        self.swin_t = torchvision.models.swin_s(pretrained=False)\n",
    "\n",
    "        for param in self.swin_t.parameters():\n",
    "            param.requires_grad_(False)\n",
    "\n",
    "        modules = list(self.swin_t.children())[:-2]\n",
    "        self.swin_t = nn.Sequential(*modules)\n",
    "\n",
    "        self.text_linear1 = nn.Linear(860, 300)\n",
    "        self.text_linear2 = nn.Linear(300, 150)\n",
    "        self.text_linear3 = nn.Linear(150, 1)\n",
    "\n",
    "\n",
    "        self.linear1 = nn.Linear(769, 300)\n",
    "        self.linear2 = nn.Linear(300, 150)\n",
    "        self.linear3 = nn.Linear(150, n_classes)\n",
    "        # self.sigm = nn.Sigmoid()\n",
    "\n",
    "    def forward(self, image):\n",
    "        features = self.swin_t(image[0])\n",
    "        features = features.view(features.size(0), -1)\n",
    "\n",
    "        text = F.relu(self.text_linear1(image[1]))\n",
    "        text = F.relu(self.text_linear2(text))\n",
    "        text = F.relu(self.text_linear3(text))\n",
    "\n",
    "        data1 = torch.concat([features, text], dim=-1)\n",
    "\n",
    "        result = F.relu(self.linear1(data1))\n",
    "        result = F.relu(self.linear2(result))\n",
    "        return self.linear3(result)\n"
   ],
   "metadata": {
    "collapsed": false
   }
  },
  {
   "cell_type": "code",
   "execution_count": 17,
   "outputs": [
    {
     "name": "stderr",
     "output_type": "stream",
     "text": [
      "/Library/Frameworks/Python.framework/Versions/3.11/lib/python3.11/site-packages/torchvision/models/_utils.py:208: UserWarning: The parameter 'pretrained' is deprecated since 0.13 and may be removed in the future, please use 'weights' instead.\n",
      "  warnings.warn(\n",
      "/Library/Frameworks/Python.framework/Versions/3.11/lib/python3.11/site-packages/torchvision/models/_utils.py:223: UserWarning: Arguments other than a weight enum or `None` for 'weights' are deprecated since 0.13 and may be removed in the future. The current behavior is equivalent to passing `weights=None`.\n",
      "  warnings.warn(msg)\n"
     ]
    }
   ],
   "source": [
    "model = CTRModel(2)\n",
    "# model.cuda()\n",
    "optimizer = torch.optim.Adam(model.parameters(), lr=1e-4)\n",
    "scheduler = torch.optim.lr_scheduler.ReduceLROnPlateau(optimizer, 'max', patience=5)\n",
    "# grad_scaler = torch.cuda.amp.GradScaler(enabled=False)\n",
    "# criterion = nn.SLL()"
   ],
   "metadata": {
    "collapsed": false
   }
  },
  {
   "cell_type": "code",
   "execution_count": 18,
   "outputs": [
    {
     "data": {
      "text/plain": "epoch:   0%|          | 0/500 [00:00<?, ?it/s]",
      "application/vnd.jupyter.widget-view+json": {
       "version_major": 2,
       "version_minor": 0,
       "model_id": "a921f03282ef445a99fdae9dbf5877f8"
      }
     },
     "metadata": {},
     "output_type": "display_data"
    },
    {
     "data": {
      "text/plain": "  0%|          | 0/17 [00:00<?, ?it/s]",
      "application/vnd.jupyter.widget-view+json": {
       "version_major": 2,
       "version_minor": 0,
       "model_id": "65ab305e7b714e30a720bb7011b45d13"
      }
     },
     "metadata": {},
     "output_type": "display_data"
    },
    {
     "data": {
      "text/plain": "Validation round:   0%|          | 0/17 [00:00<?, ?batch/s]",
      "application/vnd.jupyter.widget-view+json": {
       "version_major": 2,
       "version_minor": 0,
       "model_id": "e0139c52c93b440b87f42fcc5be86455"
      }
     },
     "metadata": {},
     "output_type": "display_data"
    },
    {
     "name": "stdout",
     "output_type": "stream",
     "text": [
      "[tensor([0, 1, 1, 1, 1, 0, 1, 0, 0, 0, 0, 0, 0, 0, 1, 0, 0, 1, 0, 0, 1, 1, 0, 1,\n",
      "        1, 1, 0, 1, 1, 1, 0, 0, 0, 0, 1, 1, 0, 1, 0, 1])] [torch.return_types.max(\n",
      "values=tensor([1.5625, 1.6328, 1.6172, 1.6172, 1.6016, 1.6016, 1.6094, 1.5938, 1.6406,\n",
      "        1.6016, 1.6016, 1.6094, 1.5469, 1.6016, 1.6406, 1.5703, 1.6016, 1.5859,\n",
      "        1.6094, 1.5938, 1.5703, 1.5547, 1.5938, 1.6016, 1.6250, 1.6094, 1.6406,\n",
      "        1.5859, 1.6406, 1.6094, 1.4141, 1.5781, 1.6250, 1.6328, 1.5938, 1.6250,\n",
      "        1.6484, 1.6250, 1.5859, 1.5781], dtype=torch.bfloat16),\n",
      "indices=tensor([0, 0, 0, 0, 0, 0, 0, 0, 0, 0, 0, 0, 0, 0, 0, 0, 0, 0, 0, 0, 0, 0, 0, 0,\n",
      "        0, 0, 0, 0, 0, 0, 0, 0, 0, 0, 0, 0, 0, 0, 0, 0]))]\n",
      "[tensor([0, 1, 1, 1, 1, 0, 1, 0, 0, 0, 0, 0, 0, 0, 1, 0, 0, 1, 0, 0, 1, 1, 0, 1,\n",
      "        1, 1, 0, 1, 1, 1, 0, 0, 0, 0, 1, 1, 0, 1, 0, 1]), tensor([0, 0, 1, 1, 1, 0, 0, 0, 0, 0, 0, 1, 1, 0, 1, 1, 0, 1, 0, 0, 0, 1, 1, 1,\n",
      "        1, 1, 1, 0, 0, 1, 1, 0, 1, 0, 0, 0, 0, 0, 1, 1])] [torch.return_types.max(\n",
      "values=tensor([1.5625, 1.6328, 1.6172, 1.6172, 1.6016, 1.6016, 1.6094, 1.5938, 1.6406,\n",
      "        1.6016, 1.6016, 1.6094, 1.5469, 1.6016, 1.6406, 1.5703, 1.6016, 1.5859,\n",
      "        1.6094, 1.5938, 1.5703, 1.5547, 1.5938, 1.6016, 1.6250, 1.6094, 1.6406,\n",
      "        1.5859, 1.6406, 1.6094, 1.4141, 1.5781, 1.6250, 1.6328, 1.5938, 1.6250,\n",
      "        1.6484, 1.6250, 1.5859, 1.5781], dtype=torch.bfloat16),\n",
      "indices=tensor([0, 0, 0, 0, 0, 0, 0, 0, 0, 0, 0, 0, 0, 0, 0, 0, 0, 0, 0, 0, 0, 0, 0, 0,\n",
      "        0, 0, 0, 0, 0, 0, 0, 0, 0, 0, 0, 0, 0, 0, 0, 0])), torch.return_types.max(\n",
      "values=tensor([1.6016, 1.5859, 1.6016, 1.6250, 1.5625, 1.5234, 1.5703, 1.5469, 1.6328,\n",
      "        1.6250, 1.6250, 1.6328, 1.6250, 1.6094, 1.6250, 1.5859, 1.5703, 1.5703,\n",
      "        1.6250, 1.5391, 1.6016, 1.5625, 1.6094, 1.6484, 1.5938, 1.6250, 1.6094,\n",
      "        1.5938, 1.5859, 1.6094, 1.5859, 1.6016, 1.6484, 1.5859, 1.5938, 1.6250,\n",
      "        1.5078, 1.5938, 1.6016, 1.5938], dtype=torch.bfloat16),\n",
      "indices=tensor([0, 0, 0, 0, 0, 0, 0, 0, 0, 0, 0, 0, 0, 0, 0, 0, 0, 0, 0, 0, 0, 0, 0, 0,\n",
      "        0, 0, 0, 0, 0, 0, 0, 0, 0, 0, 0, 0, 0, 0, 0, 0]))]\n"
     ]
    }
   ],
   "source": [
    "history = model.fit(train_dataset, val_dataset, 500, batch_size=40, optimizer=optimizer)"
   ],
   "metadata": {
    "collapsed": false
   }
  },
  {
   "cell_type": "code",
   "execution_count": 18,
   "outputs": [],
   "source": [],
   "metadata": {
    "collapsed": false
   }
  },
  {
   "cell_type": "code",
   "execution_count": 18,
   "outputs": [],
   "source": [],
   "metadata": {
    "collapsed": false
   }
  }
 ],
 "metadata": {
  "kernelspec": {
   "display_name": "Python 3",
   "language": "python",
   "name": "python3"
  },
  "language_info": {
   "codemirror_mode": {
    "name": "ipython",
    "version": 2
   },
   "file_extension": ".py",
   "mimetype": "text/x-python",
   "name": "python",
   "nbconvert_exporter": "python",
   "pygments_lexer": "ipython2",
   "version": "2.7.6"
  }
 },
 "nbformat": 4,
 "nbformat_minor": 0
}
